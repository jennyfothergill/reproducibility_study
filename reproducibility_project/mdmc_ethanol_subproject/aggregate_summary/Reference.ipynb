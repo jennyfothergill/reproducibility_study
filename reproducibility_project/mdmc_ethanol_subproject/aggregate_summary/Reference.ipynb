{
 "cells": [
  {
   "cell_type": "code",
   "execution_count": 8,
   "id": "2e1d8999-e726-46c9-a3c2-4d784cfe93e7",
   "metadata": {},
   "outputs": [],
   "source": [
    "import signac \n",
    "import numpy as np"
   ]
  },
  {
   "cell_type": "code",
   "execution_count": 9,
   "id": "9eaee5f2-2371-473c-8b79-73c8fd1e90c6",
   "metadata": {},
   "outputs": [],
   "source": [
    "engines = [\"lammps-VU\", \n",
    "           \"hoomd\", \n",
    "           \"gromacs\",\n",
    "           \"mcccs\",\n",
    "           \"gomc\", \n",
    "           \"cassandra\"]\n",
    "\n",
    "molecules = [\"methaneUA\", \"pentaneUA\", \"benzeneUA\", \"waterSPCE\", \"ethanolAA\"]\n",
    "properties = ['potential_energy', \n",
    "        'tot_vdw_energy', \n",
    "        'tail_energy', \n",
    "        'tot_electrostatics',\n",
    "        'short_range_electrostatics',\n",
    "        'long_range_electrostatics',\n",
    "        'tot_pair_energy',\n",
    "        'bonds_energy',\n",
    "        'angles_energy',\n",
    "        'dihedrals_energy',\n",
    "        'tot_bonded_energy',\n",
    "        'intramolecular_energy', \n",
    "        'intermolecular_energy',]"
   ]
  },
  {
   "cell_type": "code",
   "execution_count": 32,
   "id": "e6238701-2a17-4959-9b5f-228c32f6b77c",
   "metadata": {},
   "outputs": [
    {
     "data": {
      "text/plain": [
       "('pair_LJ',\n",
       " 'pair_LJ_tail',\n",
       " 'pair_Ewald',\n",
       " 'pppm_Coulomb',\n",
       " 'special_pair_LJ',\n",
       " 'special_pair_Coulomb',\n",
       " 'bond_Harmonic',\n",
       " 'angle_Harmonic',\n",
       " 'dihedral_OPLS',\n",
       " 'potential_energy')"
      ]
     },
     "execution_count": 32,
     "metadata": {},
     "output_type": "execute_result"
    }
   ],
   "source": [
    "# HOOMD Full\n",
    "\n",
    "('pair_LJ', 'pair_LJ_tail', 'pair_Ewald', 'pppm_Coulomb', 'special_pair_LJ', 'special_pair_Coulomb', 'bond_Harmonic', 'angle_Harmonic', 'dihedral_OPLS', 'potential_energy')\n"
   ]
  },
  {
   "cell_type": "code",
   "execution_count": 33,
   "id": "5a75050f-21db-4c8f-a36f-f8ccd86e03e4",
   "metadata": {},
   "outputs": [
    {
     "data": {
      "text/plain": [
       "('potential_energy',\n",
       " 'tot_vdw_energy',\n",
       " 'tail_energy',\n",
       " 'lj14',\n",
       " 'tot_electrostatics',\n",
       " 'short_range_electrostatics',\n",
       " 'long_range_electrostatics',\n",
       " 'coulomb14',\n",
       " 'tot_pair_energy',\n",
       " 'bonds_energy',\n",
       " 'angles_energy',\n",
       " 'dihedrals_energy',\n",
       " 'tot_bonded_energy',\n",
       " 'intramolecular_energy',\n",
       " 'intermolecular_energy')"
      ]
     },
     "execution_count": 33,
     "metadata": {},
     "output_type": "execute_result"
    }
   ],
   "source": [
    "# GROMACS Full\n",
    "('potential_energy', 'tot_vdw_energy', 'tail_energy', 'lj14', 'tot_electrostatics', 'short_range_electrostatics', 'long_range_electrostatics', 'coulomb14', 'tot_pair_energy', 'bonds_energy', 'angles_energy', 'dihedrals_energy', 'tot_bonded_energy', 'intramolecular_energy', 'intermolecular_energy')\n"
   ]
  },
  {
   "cell_type": "code",
   "execution_count": null,
   "id": "d924201d-13d9-4bc1-82d8-9cef32f84cb2",
   "metadata": {},
   "outputs": [],
   "source": []
  }
 ],
 "metadata": {
  "kernelspec": {
   "display_name": "Python 3 (ipykernel)",
   "language": "python",
   "name": "python3"
  },
  "language_info": {
   "codemirror_mode": {
    "name": "ipython",
    "version": 3
   },
   "file_extension": ".py",
   "mimetype": "text/x-python",
   "name": "python",
   "nbconvert_exporter": "python",
   "pygments_lexer": "ipython3",
   "version": "3.9.15"
  }
 },
 "nbformat": 4,
 "nbformat_minor": 5
}

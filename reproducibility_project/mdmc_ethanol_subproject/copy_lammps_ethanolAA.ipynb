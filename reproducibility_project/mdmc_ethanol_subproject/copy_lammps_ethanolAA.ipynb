{
 "cells": [
  {
   "cell_type": "code",
   "execution_count": 53,
   "id": "3423bc0f-2e7c-4d1f-8730-eacc3bd36f86",
   "metadata": {},
   "outputs": [],
   "source": [
    "import signac\n",
    "import os \n",
    "import shutil"
   ]
  },
  {
   "cell_type": "code",
   "execution_count": 54,
   "id": "83eb628b-0037-4a0f-b0ad-dbf81986cabb",
   "metadata": {},
   "outputs": [],
   "source": [
    "main_project = signac.get_project(\"..\")\n",
    "subproject = signac.get_project()"
   ]
  },
  {
   "cell_type": "code",
   "execution_count": 55,
   "id": "f7f5cc04-0598-4f6b-a21a-50352c255966",
   "metadata": {},
   "outputs": [
    {
     "name": "stdout",
     "output_type": "stream",
     "text": [
      "mosdef_reproducibility\n",
      "ethanol_fixbonds_subproject\n"
     ]
    }
   ],
   "source": [
    "print(main_project.id)\n",
    "print(subproject.id)"
   ]
  },
  {
   "cell_type": "code",
   "execution_count": 42,
   "id": "5c5812a5-a04f-47ee-a140-496e0ce02826",
   "metadata": {},
   "outputs": [],
   "source": [
    "lmp_etoh_jobs = list()\n",
    "for job in main_project.find_jobs({\"engine\": \"lammps-VU\", \n",
    "                                  \"molecule\": \"ethanolAA\"}):\n",
    "    lmp_etoh_jobs.append(job.id)\n",
    "    shutil.copytree(job.ws, \n",
    "                    f\"{subproject.workspace()}/{job.id}\")\n",
    "    "
   ]
  },
  {
   "cell_type": "code",
   "execution_count": 56,
   "id": "4b2b25b6-600d-491d-8b06-4e4b7197d396",
   "metadata": {},
   "outputs": [
    {
     "name": "stdout",
     "output_type": "stream",
     "text": [
      "{'NPT', 'NPT-fixOH', 'NPT-flexOH'}\n"
     ]
    }
   ],
   "source": [
    "ensemble = set()\n",
    "for job in subproject:\n",
    "    ensemble.add(job.sp.ensemble)\n",
    "    \n",
    "print(ensemble)"
   ]
  },
  {
   "cell_type": "code",
   "execution_count": 60,
   "id": "96bfa4cb-0054-45ec-8018-eee0d27570bd",
   "metadata": {},
   "outputs": [],
   "source": [
    "job_ids = list()\n",
    "for job in subproject.find_jobs({\"engine\": \"lammps-VU\", \n",
    "                                 \"ensemble\": \"NPT\"}):\n",
    "    job_ids.append(job.id)\n",
    "    job.update_statepoint({\"ensemble\": \"NPT-flexOH\"}, overwrite=True)\n"
   ]
  },
  {
   "cell_type": "code",
   "execution_count": 65,
   "id": "a619ab96-b5dc-4b12-9441-0d51d10947b4",
   "metadata": {
    "collapsed": true,
    "jupyter": {
     "outputs_hidden": true
    },
    "tags": []
   },
   "outputs": [
    {
     "name": "stdout",
     "output_type": "stream",
     "text": [
      "False\n",
      "False\n",
      "False\n",
      "False\n",
      "False\n",
      "False\n",
      "False\n",
      "False\n",
      "False\n",
      "False\n",
      "False\n",
      "False\n",
      "False\n",
      "False\n",
      "False\n",
      "False\n",
      "False\n",
      "False\n",
      "False\n",
      "False\n",
      "False\n",
      "False\n",
      "False\n",
      "False\n",
      "False\n",
      "False\n",
      "False\n",
      "False\n",
      "False\n",
      "False\n",
      "False\n",
      "False\n",
      "False\n",
      "False\n",
      "False\n",
      "False\n",
      "False\n",
      "False\n",
      "False\n",
      "False\n",
      "False\n",
      "False\n",
      "False\n",
      "False\n",
      "False\n",
      "False\n",
      "False\n",
      "False\n",
      "False\n",
      "False\n",
      "False\n",
      "False\n",
      "False\n",
      "False\n",
      "False\n",
      "False\n",
      "False\n",
      "False\n",
      "False\n",
      "False\n",
      "False\n",
      "False\n",
      "False\n",
      "False\n"
     ]
    }
   ],
   "source": [
    "new_job_ids = list() \n",
    "for job in subproject.find_jobs({\"engine\": \"lammps-VU\", \n",
    "                                 \"ensemble\": \"NPT-fixOH\"}):\n",
    "    new_job_ids.append(job.id)\n",
    "    #job.remove()\n",
    "    #print(job.isfile(\"prod-npt.xtc\"))\n",
    "    "
   ]
  },
  {
   "cell_type": "code",
   "execution_count": 46,
   "id": "42eff89c-2cb6-420f-a714-1b39f8756263",
   "metadata": {},
   "outputs": [
    {
     "data": {
      "text/plain": [
       "['6e5b1e841fbdc1a279b227f9ecfc30be',\n",
       " '302fea07645187b09deaa7a4d0ae95d0',\n",
       " '8a6f57db6a05d2156be0a5e25b14afc7',\n",
       " 'd039004e5a2255a0e69b4d94a742ad78',\n",
       " '272c473bfdc428451847e16eb2155907',\n",
       " '91c938ee16e0036a876922cde221f136',\n",
       " 'f5f47543f551d8bfa231ab90344869c1',\n",
       " '51db1e8a8af256b3bb0415e468a618a3',\n",
       " '98bea79d0323396d97fa4cd2317e0974',\n",
       " '62d7e44a378bdced80dd6dcdeeb0012d',\n",
       " 'd0302f6729011cebb9c245432e6e91ef',\n",
       " 'ab3745213a3c06fe95037ff06e392153',\n",
       " 'f9c92f8743c657d85ba75f9bbc4d0e21',\n",
       " '5b1758ca43961bb5be852ec3b184bdd6',\n",
       " 'bb5bb5cbbdcb16f3762803bf912bfdbb',\n",
       " '6b0e1966c84d55aa932eb2a73b608d49',\n",
       " 'bfbd26e779e818b2fc2730d0c29f477a',\n",
       " '644b37b60564fa698dc90656af73010e',\n",
       " 'e90c24c8f45f58429cc0f727c48a7073',\n",
       " '9c842bac0fd3cc043ef20616e651b55b',\n",
       " 'd66a1c93d00890a55de64808e21ad4e3',\n",
       " 'd3d8337f1bba70f3c96505e8744f9f79',\n",
       " '080662186d14512b2b4ca0ef70952711',\n",
       " '2f546d2c150d62a94b9c0d43f137279c',\n",
       " 'e3b8d8e24cc61425966022bc50313da7',\n",
       " 'c3d10575d248b1cc5e89c9cc2a9e7de1',\n",
       " 'b5215697fa297436299d7e27c45ed220',\n",
       " '566120536a82756bc5e28367e4183735',\n",
       " '3b37824816ca86e4f79c8fa43bffcdfd',\n",
       " 'd9d8963e38a748e46b8849f929956d29',\n",
       " '0855790423236878eb5dc833a67052d1',\n",
       " '915e37dd7b93b7ba2860b3f8f5ef996e',\n",
       " '5470e6e6b226f452c4c12175408d107b',\n",
       " '47ad16ee772396e90dade3a35cc1c19b',\n",
       " '306c365ca2bfc73279768a3af38d7fee',\n",
       " 'd23f112bfd8496bc5a1b5b045c031c45',\n",
       " 'ecceba01831591aa2545871085975f65',\n",
       " '5ce5d07a71dda3cd51d69e92785dffc1',\n",
       " 'a070eae44ca2e255a841967c5fca06ae',\n",
       " 'd9689bc80231fda9d0e6132c5107dd8c',\n",
       " '0d540a9ce9fb02d45cf96418ed187fb2',\n",
       " 'b53553df6dad37a6e7d5c8a8b53ced92',\n",
       " '0eb1508d138b81975d18a3aee16b1096',\n",
       " 'a5a7c14121bba7514647d247993de3e2',\n",
       " '86350f660830a0f9843c054e9e5a794d',\n",
       " 'bda6c6aa03e0939a3fc42e3bd22b708c',\n",
       " 'cd9b92acddb818daf16a497ccb7a20d3',\n",
       " '7a7aaf5a746e492b9cd2d63b3b5835cc']"
      ]
     },
     "execution_count": 46,
     "metadata": {},
     "output_type": "execute_result"
    }
   ],
   "source": [
    "new_job_ids"
   ]
  },
  {
   "cell_type": "code",
   "execution_count": 25,
   "id": "3f517242-5a17-4868-a49d-7c30e0b1dc7f",
   "metadata": {},
   "outputs": [],
   "source": [
    "assert job_ids != new_job_ids\n",
    "assert len(job_ids) == len(new_job_ids)"
   ]
  },
  {
   "cell_type": "code",
   "execution_count": null,
   "id": "0f98527c-39a7-4630-bcb2-0ecfaa81a5d7",
   "metadata": {},
   "outputs": [],
   "source": []
  }
 ],
 "metadata": {
  "kernelspec": {
   "display_name": "Python 3 (ipykernel)",
   "language": "python",
   "name": "python3"
  },
  "language_info": {
   "codemirror_mode": {
    "name": "ipython",
    "version": 3
   },
   "file_extension": ".py",
   "mimetype": "text/x-python",
   "name": "python",
   "nbconvert_exporter": "python",
   "pygments_lexer": "ipython3",
   "version": "3.9.15"
  }
 },
 "nbformat": 4,
 "nbformat_minor": 5
}
